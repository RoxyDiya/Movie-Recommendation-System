{
 "cells": [
  {
   "cell_type": "markdown",
   "metadata": {},
   "source": [
    "# **<center><font style=\"color:rgb(60,145,242)\">Movie Recommendation System</font> </center>**\n",
    "#### <center><font style=\"color:rgb(255,255,255)\">Rokshana Ahmed (1994927), Firdaous Hajjaji (2006406), Elena Martellucci (1988602) </font> </center>\n",
    "\n",
    "<center>"
   ]
  },
  {
   "cell_type": "markdown",
   "metadata": {},
   "source": [
    "## *<font style=\"color:rgb(255,255,255)\"> Outline </font>*\n",
    "\n",
    "- *`Step 1:` [Overview](#overview)*\n",
    "    - *[TF-IDF](#TF-IDF)*\n",
    "    - *[Count Vectorizer](#CountVectorizer)*\n",
    "    - *[Hash Vectorizer](#HashVectorizer)*\n",
    "    - *[Word2Vec](#Word2Vec)*\n",
    "    - *[Doc2Vec](#Doc2Vec)*\n",
    "    - *[GloVe](#GloVe)*\n",
    "    - *[Dataset](#Dataset)*\n",
    "\n",
    "- *`Step 2:` [Installation and Importation of Libraries](#import)*\n",
    "\n",
    "- *`Step 3:` [Data Preprocessing](#preprocess)*\n",
    " \n",
    "    - *`Step 3.1:` [Data Collection](#split)*\n",
    "    \n",
    "    - *`Step 3.2:` [Feature Extraction](#aug)*\n",
    "        \n",
    "- *`Step 4:` [Techniques of Text-to-Vector Convertion](#models)*\n",
    "\n",
    "    - *`Step 4.1:` [TF-IDF](#TF-IDF1)*\n",
    "    \n",
    "    - *`Step 4.2:` [Count Vectorizer](#CountVectorizer1)*\n",
    "    \n",
    "    - *`Step 4.3:` [Hash Vectorizer](#HashVectorizer1)*\n",
    "    \n",
    "    - *`Step 4.4:` [Word2Vec](#Word2Vec1)*\n",
    "\n",
    "    - *`Step 4.5:` [Doc2Vec](#Doc2Vec1)*\n",
    "\n",
    "    - *`Step 4.6:` [GloVe](#GloVe1)*\n",
    "\n",
    "- *`Step 5:` [Cosine Similarity](#cosinesim)*\n",
    "\n",
    "- *`Step 6:` [Top 30 Recommendations](#recommend)*\n",
    "    - *`Step 6.1:` [Save into a csv file](#csvmodel)*\n",
    "    - *`Step 6.2:` [Graphical Interpretation of the recommendations](#graphs)*\n"
   ]
  },
  {
   "cell_type": "markdown",
   "metadata": {},
   "source": [
    "# <a name=\"overview\"></a> **<font style=\"color:rgb(0,191,255)\">Overview:</font>**\n",
    "\n",
    "A **movie recommendation system** is an ML-based approach to filtering or predicting the users film preferences based on their past choices and behavior. \n",
    "The primary goal of movie recommendation systems is to filter and predict only those movies that a corresponding user is most likely to want to watch, based on their preference.\n",
    "Our aim is to design and implement such a system using various text to vector conversion techniques and cosine similarity."
   ]
  },
  {
   "cell_type": "markdown",
   "metadata": {},
   "source": [
    "### <a name=\"TF-IDF\"></a> **<font style=\"color:rgb(0,191,255)\">1. TF - IDF </font>**  \n",
    "\n",
    "**`TF-IDF`**  is a numerical statistic that reflects the importance of a word in a document relative to a collection of documents. It consists of two parts:\n",
    "\n",
    "1. **Term Frequency (TF)**: This measures how frequently a term occurs in a document. It is calculated by dividing the number of times a term appears in a document by the total number of terms in the document. It helps in identifying the importance of a term within a specific document.\n",
    "$$\n",
    "\\text{TF}(t, d) = \\frac{\\text{Number of times term } t \\text{ appears in document } d}{\\text{Total number of terms in document } d}\n",
    "$$\n",
    "\n",
    "\n",
    "2. **Inverse Document Frequency (IDF)**: This measures how important a term is across the entire corpus of documents. It is calculated by dividing the total number of documents by the number of documents containing the term, and then taking the logarithm of that ratio. Terms that occur frequently across many documents will have a lower IDF, while terms that occur rarely will have a higher IDF, indicating their importance.\n",
    "\n",
    "$$ \\text{IDF}(t, D) = \\log\\left(\\frac{\\text{Total number of documents in corpus } N}{\\text{Number of documents containing term } t}\\right) $$\n",
    "\n",
    "Once both TF and IDF are calculated, TF-IDF is computed by multiplying TF and IDF:\n",
    "\n",
    "$$ \\text{TF-IDF}(t, d, D) = \\text{TF}(t, d) \\times \\text{IDF}(t, D) $$\n",
    "\n",
    "In scikit-learn's `TfidfVectorizer`, the TF-IDF calculation involves additional normalization steps to avoid bias towards longer documents. These normalization steps can include L2 normalization (scaling by the Euclidean norm of each row) or L1 normalization (scaling by the sum of absolute values of each row). This normalization ensures that the TF-IDF vectors have unit norm, which can be beneficial for various machine learning algorithms.\n",
    "\n",
    "Overall, TF-IDF assigns higher weights to terms that are frequent within a specific document but relatively rare across all documents, aiming to capture the distinctive characteristics of each document in the corpus.\n",
    "\n"
   ]
  },
  {
   "cell_type": "markdown",
   "metadata": {},
   "source": [
    "### <a name=\"CountVectorizer\"></a> **<font style=\"color:rgb(0,191,255)\">2. Count Vectorizer </font>**  \n",
    "**`Count Vectorizers`** is yet again another numerical representations of words. It transforms a string into a frequency representation. The text is tokenized and very rudimentary processing is performed. The objective is to make a vector with as many dimensions as there are distinct words. Each unique word has its own dimension, which will be represented by 1 in that dimension and 0 in all others. It differs from TF-IDF as it only examines the appearance of a word in a single document instead of the whole document."
   ]
  },
  {
   "cell_type": "markdown",
   "metadata": {},
   "source": [
    "### <a name=\"HashVectorizer\"></a> **<font style=\"color:rgb(0,191,255)\">3. Hash Vectorizer </font>**  \n",
    "**`Hash Vectorizers`** does the same thing as the count vectorizer but the key difference is that it doesn't store the resulting vocabulary (i.e. the unique tokens). With Hash Vectorizer, each token directly maps to a column position in a matrix, where its size is pre-defined. For example, if you have 10,000 columns in your matrix, each token maps to 1 of the 10,000 columns. This mapping happens via hashing. The hash function used is called Murmurhash3.\n",
    "\n",
    "Not having to save the vocabulary is very efficient for a large dataset because the resulting HashingVectorizer object when saved, would be much smaller and thus faster to load back into memory when needed.\n",
    "    \n",
    "The downside of doing this is that it will not be possible to retrieve the actual token given the column position."
   ]
  },
  {
   "cell_type": "markdown",
   "metadata": {},
   "source": [
    "### <a name=\"Word2Vec\"></a> **<font style=\"color:rgb(0,191,255)\">4. Word2Vec </font>**  \n",
    "**`Word2vec`** Word2vec is a two-layer neural net that processes text by “vectorizing” words. Its input is a text corpus and its output is a set of vectors: feature vectors that represent words in that corpus. \n",
    "\n",
    "While **`Word2vec`** is not a deep neural network, it turns text into a numerical form that deep neural networks can understand. The purpose and usefulness of **`Word2vec`** is to group the vectors of similar words together in vectorspace."
   ]
  },
  {
   "cell_type": "markdown",
   "metadata": {},
   "source": [
    "### <a name=\"Doc2Vec\"></a> **<font style=\"color:rgb(0,191,255)\">5. Doc2Vec </font>**  \n",
    "**`Doc2vec`** is a popular technique in Natural Language Processing that enables the representation of documents as vectors. This technique was introduced as an extension to Word2Vec. It is an unsupervised learning technique that maps each document to a fixed-length vector in a high-dimensional space."
   ]
  },
  {
   "cell_type": "markdown",
   "metadata": {},
   "source": [
    "### <a name=\"GloVe\"></a> **<font style=\"color:rgb(0,191,255)\">6. GloVe </font>**  \n",
    "**`GloVe`** is an unsupervised learning algorithm for obtaining vector representations for words. Training is performed on aggregated global word-word co-occurrence statistics from a corpus, and the resulting representations showcase interesting linear substructures of the word vector space. \n",
    "\n",
    "**`GloVe`** is essentially a log-bilinear model with a weighted least-squares objective. The main intuition underlying the model is the simple observation that ratios of word-word co-occurrence probabilities have the potential for encoding some form of meaning. \n",
    "\n",
    "The training objective of **`GloVe`** is to learn word vectors such that their dot product equals the logarithm of the words' probability of co-occurrence. Owing to the fact that the logarithm of a ratio equals the difference of logarithms, this objective associates (the logarithm of) ratios of co-occurrence probabilities with vector differences in the word vector space. Because these ratios can encode some form of meaning, this information gets encoded as vector differences as well. For this reason, the resulting word vectors perform very well on word analogy tasks."
   ]
  },
  {
   "cell_type": "markdown",
   "metadata": {},
   "source": [
    "### <a name=\"Dataset\"></a> **<font style=\"color:rgb(0,191,255)\">7. Dataset </font>**  \n",
    "The dataset, obtained from Kaggle, is labeled as the \"TMBD 5000 Movie Dataset\", which actually includes 4803 items. Spanning 24 features, this dataset offers a comprehensive range of details, including movie ID, title, cast members, producers, release year, and assorted attributes."
   ]
  },
  {
   "cell_type": "markdown",
   "metadata": {},
   "source": [
    "# <a name=\"import\"></a> **<font style=\"color:rgb(0,191,255)\"> Installation & Importation Libraries</font>**"
   ]
  },
  {
   "cell_type": "markdown",
   "metadata": {},
   "source": [
    "### **<font style=\"color:rgb(0,191,255)\"> Install and Import the required libraries. </font>**"
   ]
  },
  {
   "cell_type": "code",
   "execution_count": 2,
   "metadata": {},
   "outputs": [
    {
     "name": "stdout",
     "output_type": "stream",
     "text": [
      "Collecting fuzzywuzzy\n",
      "  Downloading fuzzywuzzy-0.18.0-py2.py3-none-any.whl (18 kB)\n",
      "Installing collected packages: fuzzywuzzy\n",
      "Successfully installed fuzzywuzzy-0.18.0\n",
      "\n",
      "\u001b[1m[\u001b[0m\u001b[34;49mnotice\u001b[0m\u001b[1;39;49m]\u001b[0m\u001b[39;49m A new release of pip is available: \u001b[0m\u001b[31;49m23.3.1\u001b[0m\u001b[39;49m -> \u001b[0m\u001b[32;49m24.0\u001b[0m\n",
      "\u001b[1m[\u001b[0m\u001b[34;49mnotice\u001b[0m\u001b[1;39;49m]\u001b[0m\u001b[39;49m To update, run: \u001b[0m\u001b[32;49mpip install --upgrade pip\u001b[0m\n",
      "Note: you may need to restart the kernel to use updated packages.\n"
     ]
    }
   ],
   "source": [
    "pip install fuzzywuzzy"
   ]
  },
  {
   "cell_type": "code",
   "execution_count": 43,
   "metadata": {},
   "outputs": [
    {
     "name": "stderr",
     "output_type": "stream",
     "text": [
      "[nltk_data] Downloading package punkt to /Users/elena/nltk_data...\n",
      "[nltk_data]   Package punkt is already up-to-date!\n"
     ]
    },
    {
     "data": {
      "text/plain": [
       "True"
      ]
     },
     "execution_count": 43,
     "metadata": {},
     "output_type": "execute_result"
    }
   ],
   "source": [
    "import numpy as np\n",
    "import pandas as pd\n",
    "import difflib\n",
    "from fuzzywuzzy import process\n",
    "import matplotlib.pyplot as plt\n",
    "from sklearn.feature_extraction.text import TfidfVectorizer\n",
    "from sklearn.feature_extraction.text import CountVectorizer\n",
    "from sklearn.feature_extraction.text import HashingVectorizer\n",
    "from sklearn.metrics.pairwise import cosine_similarity\n",
    "from gensim.models import Word2Vec\n",
    "from nltk.tokenize import word_tokenize\n",
    "import nltk\n",
    "from gensim.models.doc2vec import Doc2Vec, TaggedDocument\n",
    "nltk.download(\"punkt\")"
   ]
  },
  {
   "cell_type": "markdown",
   "metadata": {},
   "source": [
    "# <a name=\"preprocess\"></a> **<font style=\"color:rgb(0,191,255)\"> Data Preprocessing</font>**"
   ]
  },
  {
   "cell_type": "markdown",
   "metadata": {},
   "source": [
    "## <a name=\"split\"></a> **<font style=\"color:rgb(0,191,255)\"> Data Collection</font>**"
   ]
  },
  {
   "cell_type": "code",
   "execution_count": 4,
   "metadata": {},
   "outputs": [],
   "source": [
    "# Loading movie data from a CSV file into a Pandas DataFrame.\n",
    "# NOTE: Please verify the filepath to ensure it matches the location of the CSV file on your system.\n",
    "movies_data = pd.read_csv('/Users/elena/Downloads/movies_small2.csv')"
   ]
  },
  {
   "cell_type": "code",
   "execution_count": 5,
   "metadata": {},
   "outputs": [
    {
     "data": {
      "text/html": [
       "<div>\n",
       "<style scoped>\n",
       "    .dataframe tbody tr th:only-of-type {\n",
       "        vertical-align: middle;\n",
       "    }\n",
       "\n",
       "    .dataframe tbody tr th {\n",
       "        vertical-align: top;\n",
       "    }\n",
       "\n",
       "    .dataframe thead th {\n",
       "        text-align: right;\n",
       "    }\n",
       "</style>\n",
       "<table border=\"1\" class=\"dataframe\">\n",
       "  <thead>\n",
       "    <tr style=\"text-align: right;\">\n",
       "      <th></th>\n",
       "      <th>index</th>\n",
       "      <th>genres</th>\n",
       "      <th>keywords</th>\n",
       "      <th>tagline</th>\n",
       "      <th>title</th>\n",
       "      <th>cast</th>\n",
       "      <th>director</th>\n",
       "    </tr>\n",
       "  </thead>\n",
       "  <tbody>\n",
       "    <tr>\n",
       "      <th>0</th>\n",
       "      <td>0</td>\n",
       "      <td>Action Adventure Fantasy Science Fiction</td>\n",
       "      <td>culture clash future space war space colony so...</td>\n",
       "      <td>Enter the World of Pandora.</td>\n",
       "      <td>Avatar</td>\n",
       "      <td>Sam Worthington Zoe Saldana Sigourney Weaver S...</td>\n",
       "      <td>James Cameron</td>\n",
       "    </tr>\n",
       "    <tr>\n",
       "      <th>1</th>\n",
       "      <td>1</td>\n",
       "      <td>Adventure Fantasy Action</td>\n",
       "      <td>ocean drug abuse exotic island east india trad...</td>\n",
       "      <td>At the end of the world, the adventure begins.</td>\n",
       "      <td>Pirates of the Caribbean: At World's End</td>\n",
       "      <td>Johnny Depp Orlando Bloom Keira Knightley Stel...</td>\n",
       "      <td>Gore Verbinski</td>\n",
       "    </tr>\n",
       "    <tr>\n",
       "      <th>2</th>\n",
       "      <td>2</td>\n",
       "      <td>Action Adventure Crime</td>\n",
       "      <td>spy based on novel secret agent sequel mi6</td>\n",
       "      <td>A Plan No One Escapes</td>\n",
       "      <td>Spectre</td>\n",
       "      <td>Daniel Craig Christoph Waltz L\\u00e9a Seydoux ...</td>\n",
       "      <td>Sam Mendes</td>\n",
       "    </tr>\n",
       "    <tr>\n",
       "      <th>3</th>\n",
       "      <td>3</td>\n",
       "      <td>Action Crime Drama Thriller</td>\n",
       "      <td>dc comics crime fighter terrorist secret ident...</td>\n",
       "      <td>The Legend Ends</td>\n",
       "      <td>The Dark Knight Rises</td>\n",
       "      <td>Christian Bale Michael Caine Gary Oldman Anne ...</td>\n",
       "      <td>Christopher Nolan</td>\n",
       "    </tr>\n",
       "    <tr>\n",
       "      <th>4</th>\n",
       "      <td>4</td>\n",
       "      <td>Action Adventure Science Fiction</td>\n",
       "      <td>based on novel mars medallion space travel pri...</td>\n",
       "      <td>Lost in our world, found in another.</td>\n",
       "      <td>John Carter</td>\n",
       "      <td>Taylor Kitsch Lynn Collins Samantha Morton Wil...</td>\n",
       "      <td>Andrew Stanton</td>\n",
       "    </tr>\n",
       "  </tbody>\n",
       "</table>\n",
       "</div>"
      ],
      "text/plain": [
       "   index                                    genres  \\\n",
       "0      0  Action Adventure Fantasy Science Fiction   \n",
       "1      1                  Adventure Fantasy Action   \n",
       "2      2                    Action Adventure Crime   \n",
       "3      3               Action Crime Drama Thriller   \n",
       "4      4          Action Adventure Science Fiction   \n",
       "\n",
       "                                            keywords  \\\n",
       "0  culture clash future space war space colony so...   \n",
       "1  ocean drug abuse exotic island east india trad...   \n",
       "2         spy based on novel secret agent sequel mi6   \n",
       "3  dc comics crime fighter terrorist secret ident...   \n",
       "4  based on novel mars medallion space travel pri...   \n",
       "\n",
       "                                          tagline  \\\n",
       "0                     Enter the World of Pandora.   \n",
       "1  At the end of the world, the adventure begins.   \n",
       "2                           A Plan No One Escapes   \n",
       "3                                 The Legend Ends   \n",
       "4            Lost in our world, found in another.   \n",
       "\n",
       "                                      title  \\\n",
       "0                                    Avatar   \n",
       "1  Pirates of the Caribbean: At World's End   \n",
       "2                                   Spectre   \n",
       "3                     The Dark Knight Rises   \n",
       "4                               John Carter   \n",
       "\n",
       "                                                cast           director  \n",
       "0  Sam Worthington Zoe Saldana Sigourney Weaver S...      James Cameron  \n",
       "1  Johnny Depp Orlando Bloom Keira Knightley Stel...     Gore Verbinski  \n",
       "2  Daniel Craig Christoph Waltz L\\u00e9a Seydoux ...         Sam Mendes  \n",
       "3  Christian Bale Michael Caine Gary Oldman Anne ...  Christopher Nolan  \n",
       "4  Taylor Kitsch Lynn Collins Samantha Morton Wil...     Andrew Stanton  "
      ]
     },
     "execution_count": 5,
     "metadata": {},
     "output_type": "execute_result"
    }
   ],
   "source": [
    "# Displaying the first 5 rows of the DataFrame to inspect the data structure.\n",
    "movies_data.head()"
   ]
  },
  {
   "cell_type": "markdown",
   "metadata": {},
   "source": [
    "## <a name=\"aug\"></a> **<font style=\"color:rgb(0,191,255)\"> Feature Extraction</font>**"
   ]
  },
  {
   "cell_type": "markdown",
   "metadata": {},
   "source": [
    "During the preprocessing phase, we extracted only the most relevant columns/features for our analysis. Out of the numer- ous attributes available, we specifically selected five key fea- tures: ’genres’, ’keywords’, ’tagline’, ’cast’, and ’director’. Once identified, we took measures to handle missing values by replacing them with null strings, ensuring data complete- ness and consistency and we combined them into a single co- hesive text representation, which served as the basis for em- bedding techniques and it enabled us to capture rich semantic information."
   ]
  },
  {
   "cell_type": "code",
   "execution_count": 7,
   "metadata": {},
   "outputs": [],
   "source": [
    "# selecting the relevant features for recommendation\n",
    "selected_features = ['genres','keywords','tagline','cast','director']\n"
   ]
  },
  {
   "cell_type": "code",
   "execution_count": 8,
   "metadata": {},
   "outputs": [],
   "source": [
    "# replacing the null valuess with null string for missing data\n",
    "# (not for all columns, just the ones we are interested in )\n",
    "\n",
    "for feature in selected_features:\n",
    "  movies_data[feature] = movies_data[feature].fillna('')"
   ]
  },
  {
   "cell_type": "code",
   "execution_count": 9,
   "metadata": {},
   "outputs": [],
   "source": [
    "# combining all the 5 selected features\n",
    "\n",
    "combined_features = movies_data['genres']+' '+movies_data['keywords']+' '+movies_data['tagline']+' '+movies_data['cast']+' '+movies_data['director']"
   ]
  },
  {
   "cell_type": "code",
   "execution_count": 10,
   "metadata": {},
   "outputs": [
    {
     "name": "stdout",
     "output_type": "stream",
     "text": [
      "0       Action Adventure Fantasy Science Fiction cultu...\n",
      "1       Adventure Fantasy Action ocean drug abuse exot...\n",
      "2       Action Adventure Crime spy based on novel secr...\n",
      "3       Action Crime Drama Thriller dc comics crime fi...\n",
      "4       Action Adventure Science Fiction based on nove...\n",
      "                              ...                        \n",
      "4798    Action Crime Thriller united states\\u2013mexic...\n",
      "4799    Comedy Romance  A newlywed couple's honeymoon ...\n",
      "4800    Comedy Drama Romance TV Movie date love at fir...\n",
      "4801      A New Yorker in Shanghai Daniel Henney Eliza...\n",
      "4802    Documentary obsession camcorder crush dream gi...\n",
      "Length: 4803, dtype: object\n"
     ]
    }
   ],
   "source": [
    "print(combined_features)"
   ]
  },
  {
   "cell_type": "markdown",
   "metadata": {},
   "source": [
    "# <a name=\"models\"></a> **<font style=\"color:rgb(0,191,255)\"> Techniques of Text-to-Vector Conversion</font>**"
   ]
  },
  {
   "cell_type": "markdown",
   "metadata": {},
   "source": [
    "## <a name=\"TF-IDF1\"></a> **<font style=\"color:rgb(0,191,255)\"> TF-IDF</font>**"
   ]
  },
  {
   "cell_type": "code",
   "execution_count": 11,
   "metadata": {},
   "outputs": [],
   "source": [
    "# converting the text data to feature vectors\n",
    "\n",
    "vectorizer = TfidfVectorizer()"
   ]
  },
  {
   "cell_type": "code",
   "execution_count": 12,
   "metadata": {},
   "outputs": [],
   "source": [
    "feature_vectors_tfidfvec = vectorizer.fit_transform(combined_features)"
   ]
  },
  {
   "cell_type": "code",
   "execution_count": 13,
   "metadata": {},
   "outputs": [
    {
     "name": "stdout",
     "output_type": "stream",
     "text": [
      "  (0, 2432)\t0.17272411194153\n",
      "  (0, 7755)\t0.1128035714854756\n",
      "  (0, 13024)\t0.1942362060108871\n",
      "  (0, 10229)\t0.16058685400095302\n",
      "  (0, 8756)\t0.22709015857011816\n",
      "  (0, 14608)\t0.15150672398763912\n",
      "  (0, 16668)\t0.19843263965100372\n",
      "  (0, 14064)\t0.20596090415084142\n",
      "  (0, 13319)\t0.2177470539412484\n",
      "  (0, 17290)\t0.20197912553916567\n",
      "  (0, 17007)\t0.23643326319898797\n",
      "  (0, 13349)\t0.15021264094167086\n",
      "  (0, 11503)\t0.27211310056983656\n",
      "  (0, 11192)\t0.09049319826481456\n",
      "  (0, 16998)\t0.1282126322850579\n",
      "  (0, 15261)\t0.07095833561276566\n",
      "  (0, 4945)\t0.24025852494110758\n",
      "  (0, 14271)\t0.21392179219912877\n",
      "  (0, 3225)\t0.24960162956997736\n",
      "  (0, 16587)\t0.12549432354918996\n",
      "  (0, 14378)\t0.33962752210959823\n",
      "  (0, 5836)\t0.1646750903586285\n",
      "  (0, 3065)\t0.22208377802661425\n",
      "  (0, 3678)\t0.21392179219912877\n",
      "  (0, 5437)\t0.1036413987316636\n",
      "  :\t:\n",
      "  (4801, 17266)\t0.2886098184932947\n",
      "  (4801, 4835)\t0.24713765026963996\n",
      "  (4801, 403)\t0.17727585190343226\n",
      "  (4801, 6935)\t0.2886098184932947\n",
      "  (4801, 11663)\t0.21557500762727902\n",
      "  (4801, 1672)\t0.1564793427630879\n",
      "  (4801, 10929)\t0.13504166990041588\n",
      "  (4801, 7474)\t0.11307961713172225\n",
      "  (4801, 3796)\t0.3342808988877418\n",
      "  (4802, 6996)\t0.5700048226105303\n",
      "  (4802, 5367)\t0.22969114490410403\n",
      "  (4802, 3654)\t0.262512960498006\n",
      "  (4802, 2425)\t0.24002350969074696\n",
      "  (4802, 4608)\t0.24002350969074696\n",
      "  (4802, 6417)\t0.21753405888348784\n",
      "  (4802, 4371)\t0.1538239182675544\n",
      "  (4802, 12989)\t0.1696476532191718\n",
      "  (4802, 1316)\t0.1960747079005741\n",
      "  (4802, 4528)\t0.19504460807622875\n",
      "  (4802, 3436)\t0.21753405888348784\n",
      "  (4802, 6155)\t0.18056463596934083\n",
      "  (4802, 4980)\t0.16078053641367315\n",
      "  (4802, 2129)\t0.3099656128577656\n",
      "  (4802, 4518)\t0.16784466610624255\n",
      "  (4802, 11161)\t0.17867407682173203\n"
     ]
    }
   ],
   "source": [
    "print(feature_vectors_tfidfvec)"
   ]
  },
  {
   "cell_type": "markdown",
   "metadata": {},
   "source": [
    "## <a name=\"CountVectorizer1\"></a> **<font style=\"color:rgb(0,191,255)\"> Count Vectorizer</font>**"
   ]
  },
  {
   "cell_type": "code",
   "execution_count": 14,
   "metadata": {},
   "outputs": [],
   "source": [
    "# converting the text data to feature vectors\n",
    "\n",
    "vectorizer = CountVectorizer()"
   ]
  },
  {
   "cell_type": "code",
   "execution_count": 15,
   "metadata": {},
   "outputs": [],
   "source": [
    "feature_vectors_countvec = vectorizer.fit_transform(combined_features)"
   ]
  },
  {
   "cell_type": "code",
   "execution_count": 16,
   "metadata": {},
   "outputs": [
    {
     "name": "stdout",
     "output_type": "stream",
     "text": [
      "  (0, 201)\t1\n",
      "  (0, 274)\t1\n",
      "  (0, 5274)\t1\n",
      "  (0, 13599)\t1\n",
      "  (0, 5437)\t1\n",
      "  (0, 3678)\t1\n",
      "  (0, 3065)\t1\n",
      "  (0, 5836)\t1\n",
      "  (0, 14378)\t2\n",
      "  (0, 16587)\t1\n",
      "  (0, 3225)\t1\n",
      "  (0, 14271)\t1\n",
      "  (0, 4945)\t1\n",
      "  (0, 15261)\t1\n",
      "  (0, 16998)\t1\n",
      "  (0, 11192)\t1\n",
      "  (0, 11503)\t1\n",
      "  (0, 13349)\t1\n",
      "  (0, 17007)\t1\n",
      "  (0, 17290)\t1\n",
      "  (0, 13319)\t1\n",
      "  (0, 14064)\t1\n",
      "  (0, 16668)\t1\n",
      "  (0, 14608)\t1\n",
      "  (0, 8756)\t1\n",
      "  :\t:\n",
      "  (4801, 403)\t1\n",
      "  (4801, 4835)\t1\n",
      "  (4801, 17266)\t1\n",
      "  (4801, 13835)\t1\n",
      "  (4801, 13175)\t1\n",
      "  (4801, 17150)\t1\n",
      "  (4801, 3511)\t1\n",
      "  (4801, 13948)\t1\n",
      "  (4801, 7269)\t1\n",
      "  (4802, 11161)\t1\n",
      "  (4802, 4518)\t1\n",
      "  (4802, 2129)\t2\n",
      "  (4802, 4980)\t1\n",
      "  (4802, 6155)\t1\n",
      "  (4802, 3436)\t1\n",
      "  (4802, 4528)\t1\n",
      "  (4802, 1316)\t1\n",
      "  (4802, 12989)\t1\n",
      "  (4802, 4371)\t1\n",
      "  (4802, 6417)\t1\n",
      "  (4802, 4608)\t1\n",
      "  (4802, 2425)\t1\n",
      "  (4802, 3654)\t1\n",
      "  (4802, 5367)\t1\n",
      "  (4802, 6996)\t2\n"
     ]
    }
   ],
   "source": [
    "print(feature_vectors_countvec)"
   ]
  },
  {
   "cell_type": "markdown",
   "metadata": {},
   "source": [
    "## <a name=\"HashVectorizer1\"></a> **<font style=\"color:rgb(0,191,255)\"> Hash Vectorizer </font>**"
   ]
  },
  {
   "cell_type": "code",
   "execution_count": 17,
   "metadata": {},
   "outputs": [],
   "source": [
    "vectorizer = HashingVectorizer()"
   ]
  },
  {
   "cell_type": "code",
   "execution_count": 18,
   "metadata": {},
   "outputs": [],
   "source": [
    "feature_vectors_hashvec = vectorizer.fit_transform(combined_features)"
   ]
  },
  {
   "cell_type": "code",
   "execution_count": 19,
   "metadata": {},
   "outputs": [
    {
     "name": "stdout",
     "output_type": "stream",
     "text": [
      "  (0, 160821)\t-0.17677669529663687\n",
      "  (0, 182920)\t-0.17677669529663687\n",
      "  (0, 185685)\t0.17677669529663687\n",
      "  (0, 190764)\t0.17677669529663687\n",
      "  (0, 202140)\t0.17677669529663687\n",
      "  (0, 213357)\t0.17677669529663687\n",
      "  (0, 257255)\t0.17677669529663687\n",
      "  (0, 286878)\t-0.17677669529663687\n",
      "  (0, 307590)\t0.17677669529663687\n",
      "  (0, 335487)\t-0.17677669529663687\n",
      "  (0, 440852)\t0.17677669529663687\n",
      "  (0, 479532)\t0.17677669529663687\n",
      "  (0, 549296)\t-0.35355339059327373\n",
      "  (0, 566964)\t0.17677669529663687\n",
      "  (0, 625101)\t-0.17677669529663687\n",
      "  (0, 630445)\t-0.17677669529663687\n",
      "  (0, 635756)\t0.17677669529663687\n",
      "  (0, 639749)\t-0.17677669529663687\n",
      "  (0, 642085)\t0.17677669529663687\n",
      "  (0, 670012)\t0.17677669529663687\n",
      "  (0, 733283)\t0.17677669529663687\n",
      "  (0, 776967)\t0.17677669529663687\n",
      "  (0, 897264)\t-0.17677669529663687\n",
      "  (0, 946261)\t0.17677669529663687\n",
      "  (0, 968222)\t-0.17677669529663687\n",
      "  :\t:\n",
      "  (4801, 676905)\t-0.23570226039551587\n",
      "  (4801, 681351)\t0.23570226039551587\n",
      "  (4801, 775106)\t0.23570226039551587\n",
      "  (4801, 811006)\t-0.23570226039551587\n",
      "  (4801, 828689)\t0.23570226039551587\n",
      "  (4801, 839842)\t0.23570226039551587\n",
      "  (4801, 843120)\t0.23570226039551587\n",
      "  (4801, 944651)\t-0.23570226039551587\n",
      "  (4801, 958016)\t-0.23570226039551587\n",
      "  (4802, 6916)\t-0.42640143271122083\n",
      "  (4802, 79126)\t0.21320071635561041\n",
      "  (4802, 141754)\t0.21320071635561041\n",
      "  (4802, 142424)\t0.42640143271122083\n",
      "  (4802, 184545)\t0.21320071635561041\n",
      "  (4802, 258414)\t0.21320071635561041\n",
      "  (4802, 347437)\t-0.21320071635561041\n",
      "  (4802, 540216)\t0.21320071635561041\n",
      "  (4802, 562754)\t0.21320071635561041\n",
      "  (4802, 581552)\t0.21320071635561041\n",
      "  (4802, 650276)\t-0.21320071635561041\n",
      "  (4802, 718987)\t-0.21320071635561041\n",
      "  (4802, 844368)\t-0.21320071635561041\n",
      "  (4802, 857707)\t0.21320071635561041\n",
      "  (4802, 897795)\t0.21320071635561041\n",
      "  (4802, 1003488)\t-0.21320071635561041\n"
     ]
    }
   ],
   "source": [
    "print(feature_vectors_hashvec)"
   ]
  },
  {
   "cell_type": "markdown",
   "metadata": {},
   "source": [
    "## <a name=\"Word2Vec1\"></a> **<font style=\"color:rgb(0,191,255)\"> Word2Vec</font>**"
   ]
  },
  {
   "cell_type": "code",
   "execution_count": 20,
   "metadata": {},
   "outputs": [],
   "source": [
    "# Tokenize your text data\n",
    "tokenized_data = [text.split() for text in combined_features]\n",
    "\n",
    "# Train Word2Vec model\n",
    "word2vec_model = Word2Vec(sentences=tokenized_data, vector_size=200, window=5, min_count=1, workers=4,epochs=5)"
   ]
  },
  {
   "cell_type": "code",
   "execution_count": 23,
   "metadata": {},
   "outputs": [],
   "source": [
    "def document_vectorizer(doc):\n",
    "    vectors = [word2vec_model.wv[word] for word in doc if word in word2vec_model.wv]\n",
    "    return sum(vectors) / len(vectors) if vectors else np.zeros(word2vec_model.vector_size)"
   ]
  },
  {
   "cell_type": "code",
   "execution_count": 25,
   "metadata": {},
   "outputs": [],
   "source": [
    "movie_vectors_word2vec = [document_vectorizer(tokens) for tokens in tokenized_data]"
   ]
  },
  {
   "cell_type": "markdown",
   "metadata": {},
   "source": [
    "## <a name=\"Doc2Vec1\"></a> **<font style=\"color:rgb(0,191,255)\"> Doc2Vec</font>**"
   ]
  },
  {
   "cell_type": "code",
   "execution_count": 27,
   "metadata": {},
   "outputs": [],
   "source": [
    "# Tokenize your text data using nltk.word_tokenize\n",
    "tokenized_data = [word_tokenize(text.lower()) for text in combined_features]\n",
    "\n",
    "# Tag each document with its index\n",
    "tagged_data = [TaggedDocument(words=doc, tags=[str(i)]) for i, doc in enumerate(tokenized_data)]"
   ]
  },
  {
   "cell_type": "code",
   "execution_count": 28,
   "metadata": {},
   "outputs": [],
   "source": [
    "# Train Doc2Vec model\n",
    "doc2vec_model = Doc2Vec(vector_size=200, window=5, min_count=1, workers=4, epochs=5)\n",
    "doc2vec_model.build_vocab(tagged_data)\n",
    "doc2vec_model.train(tagged_data, total_examples=doc2vec_model.corpus_count, epochs=doc2vec_model.epochs)"
   ]
  },
  {
   "cell_type": "code",
   "execution_count": 29,
   "metadata": {},
   "outputs": [],
   "source": [
    "# Get vectors for each document\n",
    "movie_vectors_doc2vec = [doc2vec_model.dv[i] for i in range(len(tagged_data))]"
   ]
  },
  {
   "cell_type": "markdown",
   "metadata": {},
   "source": [
    "## <a name=\"GloVe1\"></a> **<font style=\"color:rgb(0,191,255)\"> GloVe </font>**"
   ]
  },
  {
   "cell_type": "markdown",
   "metadata": {},
   "source": [
    "This code is essentially performing the following steps:\n",
    "\n",
    "1. Loading pre-trained GloVe word embeddings from a text file.\n",
    "2. Defining a function to embed text using the loaded GloVe embeddings.\n",
    "3. Embedding each text feature using GloVe embeddings and storing the resulting embeddings in a list.\n",
    "4. Converting the list of embeddings into a NumPy array and reshaping it into a 2D array.\n",
    "\n",
    "The resulting movie_embeddings_GloVE array contains the embedded representations of the input text features using GloVe embeddings. These embeddings can then be used as input features for various machine learning or natural language processing tasks."
   ]
  },
  {
   "cell_type": "code",
   "execution_count": 30,
   "metadata": {},
   "outputs": [],
   "source": [
    "##Initialize the function to load GloVe embeddings\n",
    "def load_glove_embeddings(file_path):\n",
    "  \"\"\"\n",
    "    Load GloVe word embeddings from a text file.\n",
    "    \n",
    "    Parameters:\n",
    "    - file_path: Path to the GloVe embeddings file.\n",
    "    \n",
    "    Returns:\n",
    "    - embeddings_index: A dictionary mapping words to their corresponding embeddings.\n",
    "  \"\"\"\n",
    "  embeddings_index = {}\n",
    "  with open(file_path, encoding='utf-8') as f:\n",
    "    for line in f:\n",
    "      values = line.split()\n",
    "      word = values[0]\n",
    "      coefs = np.asarray(values[1:], dtype='float32')\n",
    "      embeddings_index[word] = coefs\n",
    "  return embeddings_index\n",
    "\n",
    "#Load GloVe embeddings (replace 'path/to/glove.6B.300d.txt' with the path to your downloaded GloVe file)\n",
    "# NOTE: check the filepath for you personal computer \n",
    "\n",
    "glove_file_path = '/Users/elena/Downloads/glove.6B.300d.txt'\n",
    "glove_embeddings = load_glove_embeddings(glove_file_path)"
   ]
  },
  {
   "cell_type": "code",
   "execution_count": 31,
   "metadata": {},
   "outputs": [],
   "source": [
    "# Function to embed text using GloVe embeddings\n",
    "def embed_text(text, embeddings_index, max_vector_length):\n",
    "    \"\"\"\n",
    "    Embed text using pre-trained GloVe embeddings.\n",
    "    \n",
    "    Parameters:\n",
    "    - text: Input text to be embedded.\n",
    "    - embeddings_index: Dictionary mapping words to their embeddings.\n",
    "    - max_vector_length: Maximum length of the resulting embedding vectors.\n",
    "    \n",
    "    Returns:\n",
    "    - padded_embedding: Embedded representation of the input text.\n",
    "    \"\"\"\n",
    "    words = text.split()\n",
    "    vectors = [embeddings_index.get(word, np.zeros_like(embeddings_index['a'])) for word in words]\n",
    "    vectors = [vec for vec in vectors if not np.all(vec == 0)]  # Remove zero vectors\n",
    "    if vectors:\n",
    "        average_vector = np.nanmean(vectors, axis=0)\n",
    "        # Pad or truncate the embedding to match the maximum length\n",
    "        padded_embedding = np.pad(average_vector, (0, max(0, max_vector_length - len(average_vector))), 'constant')\n",
    "        return padded_embedding\n",
    "    else:\n",
    "        return np.zeros(max_vector_length, dtype=np.float32)\n",
    "\n",
    "# Create movie_embeddings\n",
    "movie_embeddings = []\n",
    "for text in combined_features:\n",
    "    embedding = embed_text(text, glove_embeddings, 1)  # Assuming you use 1 as a placeholder for max_vector_length\n",
    "    movie_embeddings.append(embedding)\n",
    "\n",
    "# Find the maximum number of non-zero elements in the embeddings\n",
    "max_vector_length = max(\n",
    "    np.count_nonzero(embedding) for embedding in movie_embeddings\n",
    ")\n",
    "\n",
    "# Pad or truncate the embeddings to have the same length\n",
    "movie_embeddings = [np.pad(embedding, (0, max(0, max_vector_length - len(embedding))), 'constant') for embedding in movie_embeddings]\n",
    "\n",
    "# Convert movie_embeddings to a NumPy array\n",
    "movie_embeddings = np.array(movie_embeddings, dtype=object)  # Use object type to handle variable-length arrays\n",
    "\n",
    "# Embed text for each movie\n",
    "movie_embeddings = []\n",
    "for text in combined_features:\n",
    "    embedding = embed_text(text, glove_embeddings, max_vector_length)\n",
    "    movie_embeddings.append(embedding)\n",
    "\n",
    "# Convert movie_embeddings to a NumPy array\n",
    "movie_embeddings = np.array(movie_embeddings, dtype=np.float32)\n",
    "\n",
    "# Reshape movie_embeddings to be a 2D array\n",
    "movie_embeddings_GloVE = np.vstack(movie_embeddings)"
   ]
  },
  {
   "cell_type": "markdown",
   "metadata": {},
   "source": [
    "# <a name=\"cosinesim\"></a> **<font style=\"color:rgb(0,191,255)\"> Cosine Similarity </font>**"
   ]
  },
  {
   "cell_type": "markdown",
   "metadata": {},
   "source": [
    " **<font style=\"color:rgb(0,191,255)\"> QUICK GUIDE FOR RUNNING COSINE SIMILARITY </font>**  \n",
    "\n",
    "- Step 1: Choose which vectorizer to use for the recommendation system\n",
    "- Step 2: Run the corresponding code for that vectorizer\n",
    "- Step 3: Run the code for cosine similarity by making sure to use the similarity of the corresponding vectorizer and keep the others commented\n",
    "\n",
    "NOTE: To run GloVE, you need to download the glove.6B.300d.txt file and load in the code, then run glove_embeddings."
   ]
  },
  {
   "cell_type": "code",
   "execution_count": 35,
   "metadata": {},
   "outputs": [],
   "source": [
    "# getting the similarity scores using cosine similarity\n",
    "# for each movie it compares it to another and calculates in cosine similarity as seen in class\n",
    "\n",
    "#similarity = cosine_similarity(movie_vectors_word2vec)\n",
    "#similarity = cosine_similarity(movie_vectors_doc2vec)\n",
    "similarity = cosine_similarity(feature_vectors_tfidfvec)\n",
    "#similarity = cosine_similarity(movie_embeddings_GloVE)\n",
    "#similarity = cosine_similarity(feature_vectors_countvec)\n",
    "#similarity = cosine_similarity(feature_vectors_hashvec)"
   ]
  },
  {
   "cell_type": "code",
   "execution_count": 36,
   "metadata": {},
   "outputs": [
    {
     "name": "stdout",
     "output_type": "stream",
     "text": [
      "[[1.         0.07219487 0.037733   ... 0.         0.         0.        ]\n",
      " [0.07219487 1.         0.03281499 ... 0.03575545 0.         0.        ]\n",
      " [0.037733   0.03281499 1.         ... 0.         0.05389661 0.        ]\n",
      " ...\n",
      " [0.         0.03575545 0.         ... 1.         0.         0.02651502]\n",
      " [0.         0.         0.05389661 ... 0.         1.         0.        ]\n",
      " [0.         0.         0.         ... 0.02651502 0.         1.        ]]\n"
     ]
    }
   ],
   "source": [
    "print(similarity)"
   ]
  },
  {
   "cell_type": "markdown",
   "metadata": {},
   "source": [
    "# <a name=\"recommend\"></a> **<font style=\"color:rgb(0,191,255)\"> Top 30 Recommendations </font>**"
   ]
  },
  {
   "cell_type": "markdown",
   "metadata": {},
   "source": [
    "### <a name=\"recommend\"></a> **<font style=\"color:rgb(0,191,255)\"> Getting the Movie Name from the User  </font>**"
   ]
  },
  {
   "cell_type": "code",
   "execution_count": 37,
   "metadata": {},
   "outputs": [
    {
     "name": "stdout",
     "output_type": "stream",
     "text": [
      "Iron Man\n"
     ]
    }
   ],
   "source": [
    "# getting the movie name from the user\n",
    "movie_name = input(' Enter your favourite movie name : ')\n",
    "# creating a list with all the movie names given in the dataset\n",
    "list_of_all_titles = movies_data['title'].tolist()\n",
    "# finding the close match for the movie name given by the user\n",
    "find_close_match = difflib.get_close_matches(movie_name, list_of_all_titles,3,0.7)\n",
    "#selects the first one in the list of close matches\n",
    "if len(find_close_match) > 0:\n",
    "  close_match = find_close_match[0]\n",
    "  print(close_match)\n",
    "else:\n",
    "  print(\"Movie not in dataset\")\n",
    "# finding the index of the movie with title\n",
    "index_of_the_movie = movies_data[movies_data.title == close_match]['index'].values[0]"
   ]
  },
  {
   "cell_type": "markdown",
   "metadata": {},
   "source": [
    "### <a name=\"recommend\"></a> **<font style=\"color:rgb(0,191,255)\"> Getting Movie Reccomandation  </font>**"
   ]
  },
  {
   "cell_type": "code",
   "execution_count": 39,
   "metadata": {},
   "outputs": [],
   "source": [
    "# getting a list of similar movies\n",
    "\n",
    "similarity_score = list(enumerate(similarity[index_of_the_movie]))"
   ]
  },
  {
   "cell_type": "code",
   "execution_count": 40,
   "metadata": {},
   "outputs": [],
   "source": [
    "# sorting the movies based on their similarity score\n",
    "\n",
    "sorted_similar_movies = sorted(similarity_score, key = lambda x:x[1], reverse = True)"
   ]
  },
  {
   "cell_type": "code",
   "execution_count": 42,
   "metadata": {},
   "outputs": [
    {
     "name": "stdout",
     "output_type": "stream",
     "text": [
      "Movies suggested for you : \n",
      "\n",
      "1 . Iron Man 2 (similarity = 41 %)\n",
      "2 . Iron Man 3 (similarity = 31 %)\n",
      "3 . Avengers: Age of Ultron (similarity = 24 %)\n",
      "4 . The Avengers (similarity = 23 %)\n",
      "5 . Captain America: Civil War (similarity = 22 %)\n",
      "6 . Captain America: The Winter Soldier (similarity = 21 %)\n",
      "7 . Ant-Man (similarity = 20 %)\n",
      "8 . X-Men (similarity = 17 %)\n",
      "9 . Made (similarity = 16 %)\n",
      "10 . X-Men: Apocalypse (similarity = 15 %)\n",
      "11 . X2 (similarity = 15 %)\n",
      "12 . The Incredible Hulk (similarity = 15 %)\n",
      "13 . The Helix... Loaded (similarity = 15 %)\n",
      "14 . X-Men: First Class (similarity = 14 %)\n",
      "15 . X-Men: Days of Future Past (similarity = 14 %)\n",
      "16 . Captain America: The First Avenger (similarity = 14 %)\n",
      "17 . Kick-Ass 2 (similarity = 14 %)\n",
      "18 . Guardians of the Galaxy (similarity = 14 %)\n",
      "19 . Deadpool (similarity = 13 %)\n",
      "20 . Thor: The Dark World (similarity = 13 %)\n",
      "21 . G-Force (similarity = 13 %)\n",
      "22 . X-Men: The Last Stand (similarity = 13 %)\n",
      "23 . Duets (similarity = 12 %)\n",
      "24 . Mortdecai (similarity = 12 %)\n",
      "25 . The Last Airbender (similarity = 12 %)\n",
      "26 . Southland Tales (similarity = 12 %)\n",
      "27 . Zathura: A Space Adventure (similarity = 12 %)\n",
      "28 . Sky Captain and the World of Tomorrow (similarity = 11 %)\n",
      "29 . The Amazing Spider-Man 2 (similarity = 11 %)\n",
      "30 . The Good Night (similarity = 11 %)\n"
     ]
    }
   ],
   "source": [
    "# print the name of similar movies based on the index\n",
    "\n",
    "print('Movies suggested for you : \\n')\n",
    "\n",
    "i = 1\n",
    "movie_elements = list()\n",
    "sim_elements = list()\n",
    "\n",
    "for movie in sorted_similar_movies:\n",
    "  index = movie[0]\n",
    "  title_from_index = movies_data[movies_data.index==index]['title'].values[0]\n",
    "\n",
    "  if (i<=31):\n",
    "    if i == 1:\n",
    "      pass\n",
    "    else:\n",
    "      sim = round(float(movie[1] * 100))\n",
    "      print(i-1, '.',title_from_index , \"(similarity =\", sim ,\"%)\")\n",
    "      movie_elements.append(title_from_index)\n",
    "      sim_elements.append(sim)\n",
    "    i+=1"
   ]
  },
  {
   "cell_type": "markdown",
   "metadata": {},
   "source": [
    "## <a name=\"csvmodel\"></a> **<font style=\"color:rgb(0,191,255)\"> Save into a csv file </font>**"
   ]
  },
  {
   "cell_type": "code",
   "execution_count": null,
   "metadata": {},
   "outputs": [],
   "source": [
    "import csv\n",
    "\n",
    "movies = movie_elements  # Your list of movie names\n",
    "similarity = sim_elements  # Your list of similarity scores\n",
    "\n",
    "# Make sure both lists have the same length\n",
    "if len(movies) != len(similarity):\n",
    "    raise ValueError(\"Lengths of movies and similarity lists don't match\")\n",
    "\n",
    "# Zip the two lists together to iterate over them simultaneously\n",
    "data = zip(movies, similarity)\n",
    "\n",
    "with open('movie_similarity_Count_30.csv', 'w', newline='') as csvfile:\n",
    "    csv_writer = csv.writer(csvfile)\n",
    "    # Write the header if needed\n",
    "    csv_writer.writerow(['Movie', 'Similarity'])\n",
    "    # Write the data\n",
    "    csv_writer.writerows(data)"
   ]
  },
  {
   "cell_type": "markdown",
   "metadata": {},
   "source": [
    "## <a name=\"graphs\"></a> **<font style=\"color:rgb(0,191,255)\"> Graphical Interpretation of the recommendationse </font>**"
   ]
  },
  {
   "cell_type": "code",
   "execution_count": 45,
   "metadata": {},
   "outputs": [
    {
     "data": {
      "image/png": "[encoded data removed]",
      "text/plain": [
       "<Figure size 640x480 with 1 Axes>"
      ]
     },
     "metadata": {},
     "output_type": "display_data"
    }
   ],
   "source": [
    "plt.bar(movie_elements, sim_elements)\n",
    "plt.xlabel('Movies')\n",
    "plt.ylim(0, max(sim_elements))\n",
    "#plt.gca().set_xticklabels([])\n",
    "plt.xticks(rotation=90)\n",
    "plt.ylabel('Similarity (%)')\n",
    "plt.title('Top 30 Movie Reccomandadtions using TF-IDF')\n",
    "plt.savefig('Top30MovieReccomandadtions_TF-IDF.png',bbox_inches='tight')\n",
    "\n",
    "plt.show()"
   ]
  }
 ],
 "metadata": {
  "kernelspec": {
   "display_name": "Python 3",
   "language": "python",
   "name": "python3"
  },
  "language_info": {
   "codemirror_mode": {
    "name": "ipython",
    "version": 3
   },
   "file_extension": ".py",
   "mimetype": "text/x-python",
   "name": "python",
   "nbconvert_exporter": "python",
   "pygments_lexer": "ipython3",
   "version": "3.9.13"
  }
 },
 "nbformat": 4,
 "nbformat_minor": 2
}
